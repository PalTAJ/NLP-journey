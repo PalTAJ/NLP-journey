{
 "cells": [
  {
   "cell_type": "markdown",
   "metadata": {},
   "source": [
    "### Here, we will go over simple documents query.\n",
    "### we try to find the best way to find out which one of the documents is closer to the query string.\n"
   ]
  },
  {
   "cell_type": "code",
   "execution_count": 2,
   "metadata": {},
   "outputs": [],
   "source": [
    "import math, json\n",
    "import numpy as np\n",
    "import matplotlib.pyplot as plt\n"
   ]
  },
  {
   "cell_type": "code",
   "execution_count": 6,
   "metadata": {},
   "outputs": [
    {
     "name": "stdout",
     "output_type": "stream",
     "text": [
      "['a', 'b', 'c']\n"
     ]
    }
   ],
   "source": [
    "\n",
    "queryVector = {}\n",
    "\n",
    "path = 'datasets/Documents.json'\n",
    "f = open(path,'r') \n",
    "data = json.load(f) \n",
    "\n",
    "query = 'computer science'\n",
    "\n",
    "query = 'a b c'\n",
    "\n",
    "doc1 = data['Doc1'].lower()\n",
    "doc2 = data['Doc2'].lower()\n",
    "doc3 = data['Doc3'].lower()\n",
    "doc4 = data['Doc4'].lower()\n",
    "doc4 = 'a a a b c c '\n",
    "\n",
    "\n",
    "query = query.split()\n",
    "print(query)"
   ]
  },
  {
   "cell_type": "code",
   "execution_count": 7,
   "metadata": {},
   "outputs": [
    {
     "name": "stdout",
     "output_type": "stream",
     "text": [
      "[0, 0, 0]\n",
      "[0, 0, 0]\n",
      "[1, 0, 0]\n",
      "[3, 1, 2]\n"
     ]
    }
   ],
   "source": [
    "# we calculate the frequecny of the query words in each documents and return them as a vector\n",
    "\n",
    "def words2vector(text):\n",
    "         \n",
    "    vector = \n",
    "    for w in query:\n",
    "        for word in text.split():\n",
    "            if word == w:\n",
    "                vector[query.index(word)] = vector[query.index(word)] + 1\n",
    "       \n",
    "       \n",
    "    return vector\n",
    "    \n",
    "\n",
    "print(words2vector(doc1))\n",
    "print(words2vector(doc2))\n",
    "print(words2vector(doc3))\n",
    "print(words2vector(doc4))"
   ]
  },
  {
   "cell_type": "code",
   "execution_count": 263,
   "metadata": {},
   "outputs": [
    {
     "name": "stdout",
     "output_type": "stream",
     "text": [
      "red:query, blue: document 1\n"
     ]
    },
    {
     "data": {
      "image/png": "[encoded data removed]",
      "text/plain": [
       "<Figure size 432x288 with 1 Axes>"
      ]
     },
     "metadata": {
      "needs_background": "light"
     },
     "output_type": "display_data"
    },
    {
     "name": "stdout",
     "output_type": "stream",
     "text": [
      "red:query, blue: document 2\n"
     ]
    },
    {
     "data": {
      "image/png": "[encoded data removed]",
      "text/plain": [
       "<Figure size 432x288 with 1 Axes>"
      ]
     },
     "metadata": {
      "needs_background": "light"
     },
     "output_type": "display_data"
    },
    {
     "name": "stdout",
     "output_type": "stream",
     "text": [
      "red:query, blue: document 3\n"
     ]
    },
    {
     "data": {
      "image/png": "[encoded data removed]",
      "text/plain": [
       "<Figure size 432x288 with 1 Axes>"
      ]
     },
     "metadata": {
      "needs_background": "light"
     },
     "output_type": "display_data"
    }
   ],
   "source": [
    "# basic vector plot\n",
    "\n",
    "document1 = words2vector(doc1)\n",
    "document2 = words2vector(doc2)\n",
    "document3 = words2vector(doc3)\n",
    "document4 = words2vector(doc4)\n",
    "\n",
    "\n",
    "print('red:query, blue: document 1')\n",
    "V = np.array([[1,1],document1])\n",
    "origin = [0], [0] # origin point\n",
    "plt.quiver(*origin, V[:,0], V[:,1], color=['r','b','g'], scale=20)\n",
    "plt.show()\n",
    "\n",
    "print('red:query, blue: document 2')\n",
    "V = np.array([[1,1],document2])\n",
    "origin = [0], [0] # origin point\n",
    "plt.quiver(*origin, V[:,0], V[:,1], color=['r','b','g'], scale=20)\n",
    "plt.show()\n",
    "\n",
    "print('red:query, blue: document 3')\n",
    "V = np.array([[1,1],document3])\n",
    "origin = [0], [0] # origin point\n",
    "plt.quiver(*origin, V[:,0], V[:,1], color=['r','b','g'], scale=20)\n",
    "plt.show()"
   ]
  },
  {
   "cell_type": "code",
   "execution_count": 264,
   "metadata": {},
   "outputs": [
    {
     "name": "stdout",
     "output_type": "stream",
     "text": [
      "5.0\n",
      "6.0\n",
      "2.23606797749979\n",
      "1.4142135623730951\n"
     ]
    }
   ],
   "source": [
    "# Finding the distance between thr query vectors and documents vectors\n",
    "\n",
    "def euclidean_distance(document):\n",
    "    \n",
    "    query = [1, 1]\n",
    "    sq_length = 0\n",
    " \n",
    "    for index in range(0, len(query)):\n",
    "        sq_length += math.pow((document[index] - query[index]), 2)\n",
    "        \n",
    "    return math.sqrt(sq_length)\n",
    "        \n",
    "        \n",
    "print (euclidean_distance(document1))\n",
    "print (euclidean_distance(document2))\n",
    "print (euclidean_distance(document3))\n",
    "print (euclidean_distance(document4))"
   ]
  },
  {
   "cell_type": "markdown",
   "metadata": {},
   "source": [
    "##### AFTER Checking the graphs and calculate distance we notice that:\n",
    "- in doc1 the word computer mentioned 5 times and word science mentioned 4 times, the graph shows that the angle between the query and doc1 is close, we notice that the vector is between the x-axis and y-axis, and the distance caculated between the two vectors is 5 (a bit high considring the other docs). \n",
    "\n",
    "- in doc2 we the word computer mentioned 7 times and the word science 1 time, we can till from the graph that the angle between the query and doc2 is large, also we notice the vector is close to the x-axis, and our distance calculation gives 6 (highest so far).\n",
    "\n",
    "- in doc3 the word computer was mentioned 0 times while the word science was mentioned 3 times, as expected the graph shows that the graph is closer to one axis more than the other, y-axis in this case, we can notice a large angle between them but the distance calculation gives us 2.\n",
    "\n",
    "##### WHAT if the query words was repeated ? \n",
    "- the distance change dramatically since the query vectors changed,now thats an issue and tell us that the distance measure isnt stable.\n",
    "\n",
    "##### I qoute from my favortie book(source at the end) :\n",
    "\n",
    "- \"Vectors representing documents can get longer without any conceptually interesting reasons. For example, longer documents will have longer vectors: each word in a longer document has a higher chance of occurrence and will most likely have higher counts. Therefore, it is much more informative to measure not the absolute distance that can be dependent on the length of the documents, but the angle between the length-normalised vectors, that is vectors made comparable in terms of their lengths.\"\n",
    "\n",
    "##### IF we changed the query vectors to higher numbers, we will notice a change in distance but not in angle, so why dont we use it.\n",
    "##### Here we are going for cosine similiarty.\n"
   ]
  },
  {
   "cell_type": "code",
   "execution_count": 270,
   "metadata": {},
   "outputs": [
    {
     "name": "stdout",
     "output_type": "stream",
     "text": [
      "0.9938837346736188\n"
     ]
    }
   ],
   "source": [
    "document = document1\n",
    "query = [1, 1]\n",
    "\n",
    "\n",
    " \n",
    "def length(vector):\n",
    "    \n",
    "    if sum(vector) != 0:\n",
    "    \n",
    "        sq_length = 0\n",
    "        for index in range(0, len(vector)):\n",
    "            sq_length += math.pow(vector[index], 2)\n",
    "        return math.sqrt(sq_length)\n",
    "    else: return 1\n",
    "   \n",
    "def dot_product(vector1, vector2):\n",
    "    if len(vector1)==len(vector2):\n",
    "        dot_prod = 0\n",
    "        for index in range(0, len(vector1)):\n",
    "            dot_prod += vector1[index]*vector2[index]\n",
    "        return dot_prod\n",
    "    else:\n",
    "        return \"Unmatching dimensionality\"\n",
    " \n",
    "\n",
    "pro = dot_product(query, document)\n",
    "leng = (length(query)*length(document))\n",
    "\n",
    "cosine= pro/leng\n",
    "print (cosine)\n",
    "\n"
   ]
  },
  {
   "cell_type": "markdown",
   "metadata": {},
   "source": [
    "based on the cosine similarty we know that:\n",
    "\n",
    "- doc1 has 99% similairty \n",
    "- doc2 has 79% similairty \n",
    "- doc3 has 70% similairty \n",
    "\n",
    "which makes more sense when we look into the graphs."
   ]
  },
  {
   "cell_type": "code",
   "execution_count": 272,
   "metadata": {},
   "outputs": [],
   "source": [
    "# im following the below book:\n",
    "# Getting Started with Natural Language Processing by Ekaterina Kochmar "
   ]
  },
  {
   "cell_type": "code",
   "execution_count": null,
   "metadata": {},
   "outputs": [],
   "source": []
  }
 ],
 "metadata": {
  "kernelspec": {
   "display_name": "Python 3",
   "language": "python",
   "name": "python3"
  },
  "language_info": {
   "codemirror_mode": {
    "name": "ipython",
    "version": 3
   },
   "file_extension": ".py",
   "mimetype": "text/x-python",
   "name": "python",
   "nbconvert_exporter": "python",
   "pygments_lexer": "ipython3",
   "version": "3.7.6"
  }
 },
 "nbformat": 4,
 "nbformat_minor": 4
}
